{
 "cells": [
  {
   "cell_type": "code",
   "execution_count": 1,
   "id": "regulated-neutral",
   "metadata": {},
   "outputs": [],
   "source": [
    "from naive_scrcpy_client.NaiveScrcpyClient import *"
   ]
  },
  {
   "cell_type": "code",
   "execution_count": null,
   "id": "dynamic-advisory",
   "metadata": {},
   "outputs": [],
   "source": []
  },
  {
   "cell_type": "code",
   "execution_count": 2,
   "id": "photographic-flour",
   "metadata": {},
   "outputs": [],
   "source": [
    "config = {\n",
    "    \"max_size\": 640,\n",
    "    \"bit_rate\": 2 ** 30,\n",
    "    \"crop\": \"-\",\n",
    "    \"adb_path\": \"/usr/bin/adb\",\n",
    "    \"adb_device\": \"192.168.50.229:5555\",\n",
    "    \"adb_port\": 61550,\n",
    "    \"lib_path\": \"lib\",\n",
    "    \"buff_size\": 0x10000,\n",
    "    \"deque_length\": 5\n",
    "}"
   ]
  },
  {
   "cell_type": "code",
   "execution_count": 3,
   "id": "entire-genesis",
   "metadata": {},
   "outputs": [
    {
     "name": "stdout",
     "output_type": "stream",
     "text": [
      "Upload JAR...\n",
      "Run JAR\n"
     ]
    }
   ],
   "source": [
    "client = NaiveScrcpyClient(config)"
   ]
  },
  {
   "cell_type": "code",
   "execution_count": 4,
   "id": "remarkable-fusion",
   "metadata": {},
   "outputs": [
    {
     "name": "stderr",
     "output_type": "stream",
     "text": [
      "Traceback (most recent call last):\n",
      "  File \"/home/rluo/raid/projects/KRR/syn_time_accountant/naive_scrcpy_client/NaiveScrcpyClient.py\", line 61, in _run_decoder\n",
      "    self.sock.connect((self.ip, self.port))\n",
      "ConnectionRefusedError: [Errno 111] Connection refused\n"
     ]
    }
   ],
   "source": [
    "ret = client.start_loop()"
   ]
  },
  {
   "cell_type": "code",
   "execution_count": 5,
   "id": "micro-fellowship",
   "metadata": {},
   "outputs": [],
   "source": [
    "img = client.get_screen_frame()\n",
    "if img is not None:\n",
    "    cv2.imshow(\"img\", img)"
   ]
  },
  {
   "cell_type": "code",
   "execution_count": 6,
   "id": "brilliant-nursery",
   "metadata": {},
   "outputs": [],
   "source": [
    "img"
   ]
  },
  {
   "cell_type": "code",
   "execution_count": 17,
   "id": "posted-killing",
   "metadata": {},
   "outputs": [
    {
     "data": {
      "text/plain": [
       "1073741824"
      ]
     },
     "execution_count": 17,
     "metadata": {},
     "output_type": "execute_result"
    }
   ],
   "source": [
    "2**30"
   ]
  },
  {
   "cell_type": "code",
   "execution_count": 19,
   "id": "excessive-london",
   "metadata": {},
   "outputs": [
    {
     "name": "stdout",
     "output_type": "stream",
     "text": [
      "lib/scrcpy-server.jar: 1 file pushed. 0.8 MB/s (34930 bytes in 0.041s)\u001b[K\n",
      "[server] INFO: Device: HUAWEI LYA-L0C (Android 10)\n",
      "^C\n"
     ]
    }
   ],
   "source": [
    "!adb -s 192.168.50.229:5555 push lib/scrcpy-server.jar /data/local/tmp/\n",
    "!adb -s 192.168.50.229:5555 shell CLASSPATH=/data/local/tmp/scrcpy-server.jar app_process / com.genymobile.scrcpy.Server 1.17 info 960 1073741824 60 -1 true - false true 0 false false - -"
   ]
  },
  {
   "cell_type": "code",
   "execution_count": null,
   "id": "nasty-phone",
   "metadata": {},
   "outputs": [],
   "source": []
  },
  {
   "cell_type": "code",
   "execution_count": 22,
   "id": "alpine-terry",
   "metadata": {},
   "outputs": [
    {
     "name": "stdout",
     "output_type": "stream",
     "text": [
      "Connecting\n"
     ]
    }
   ],
   "source": [
    "\n",
    "import socket\n",
    "import struct\n",
    "import sys\n",
    "import subprocess\n",
    "import io\n",
    "\n",
    "IP = '127.0.0.1'\n",
    "PORT = 8080\n",
    "\n",
    "print(\"Connecting\")\n",
    "sock = socket.socket(socket.AF_INET, socket.SOCK_STREAM)\n",
    "sock.connect((IP, PORT))\n"
   ]
  },
  {
   "cell_type": "code",
   "execution_count": 23,
   "id": "monthly-canal",
   "metadata": {},
   "outputs": [
    {
     "name": "stdout",
     "output_type": "stream",
     "text": [
      "Connected!\n"
     ]
    }
   ],
   "source": [
    "\n",
    "DUMMYBYTE = sock.recv(1)\n",
    "if not len(DUMMYBYTE):\n",
    "    print(\"Failed to connect!\")\n",
    "    exit()\n",
    "else:\n",
    "    print(\"Connected!\")\n"
   ]
  },
  {
   "cell_type": "code",
   "execution_count": 24,
   "id": "willing-dryer",
   "metadata": {},
   "outputs": [
    {
     "name": "stdout",
     "output_type": "stream",
     "text": [
      "Device Name: \n"
     ]
    }
   ],
   "source": [
    "deviceName = sock.recv(64)\n",
    "print(\"Device Name:\",deviceName.decode(\"utf-8\"))"
   ]
  },
  {
   "cell_type": "code",
   "execution_count": 3,
   "id": "allied-weather",
   "metadata": {},
   "outputs": [
    {
     "ename": "KeyboardInterrupt",
     "evalue": "",
     "output_type": "error",
     "traceback": [
      "\u001b[0;31m---------------------------------------------------------------------------\u001b[0m",
      "\u001b[0;31mKeyboardInterrupt\u001b[0m                         Traceback (most recent call last)",
      "\u001b[0;32m<ipython-input-3-1fba2cdc0384>\u001b[0m in \u001b[0;36m<module>\u001b[0;34m\u001b[0m\n\u001b[0;32m----> 1\u001b[0;31m \u001b[0mres\u001b[0m \u001b[0;34m=\u001b[0m \u001b[0msock\u001b[0m\u001b[0;34m.\u001b[0m\u001b[0mrecv\u001b[0m\u001b[0;34m(\u001b[0m\u001b[0;36m1\u001b[0m\u001b[0;34m)\u001b[0m\u001b[0;34m\u001b[0m\u001b[0;34m\u001b[0m\u001b[0m\n\u001b[0m",
      "\u001b[0;31mKeyboardInterrupt\u001b[0m: "
     ]
    }
   ],
   "source": [
    "res = sock.recv(1)"
   ]
  },
  {
   "cell_type": "code",
   "execution_count": null,
   "id": "alternate-prediction",
   "metadata": {},
   "outputs": [],
   "source": [
    "WIDTH, HEIGHT = struct.unpack(\">HH\", res)\n",
    "print(\"WxH:\",WIDTH,\"x\",HEIGHT)"
   ]
  },
  {
   "cell_type": "code",
   "execution_count": 6,
   "id": "naval-munich",
   "metadata": {},
   "outputs": [],
   "source": [
    "ffplayCmd =['ffplay', '-']"
   ]
  },
  {
   "cell_type": "code",
   "execution_count": 7,
   "id": "behind-sleeve",
   "metadata": {},
   "outputs": [],
   "source": [
    "ffp = subprocess.Popen(ffplayCmd, stdin = subprocess.PIPE, stdout = subprocess.PIPE)"
   ]
  },
  {
   "cell_type": "code",
   "execution_count": 21,
   "id": "outdoor-amino",
   "metadata": {},
   "outputs": [
    {
     "ename": "KeyboardInterrupt",
     "evalue": "",
     "output_type": "error",
     "traceback": [
      "\u001b[0;31m---------------------------------------------------------------------------\u001b[0m",
      "\u001b[0;31mKeyboardInterrupt\u001b[0m                         Traceback (most recent call last)",
      "\u001b[0;32m<ipython-input-21-dea9211d40be>\u001b[0m in \u001b[0;36m<module>\u001b[0;34m\u001b[0m\n\u001b[0;32m----> 1\u001b[0;31m \u001b[0mdata\u001b[0m \u001b[0;34m=\u001b[0m \u001b[0msock\u001b[0m\u001b[0;34m.\u001b[0m\u001b[0mrecv\u001b[0m\u001b[0;34m(\u001b[0m\u001b[0;36m10000\u001b[0m\u001b[0;34m)\u001b[0m\u001b[0;34m\u001b[0m\u001b[0;34m\u001b[0m\u001b[0m\n\u001b[0m",
      "\u001b[0;31mKeyboardInterrupt\u001b[0m: "
     ]
    }
   ],
   "source": [
    "data = sock.recv(10000)"
   ]
  },
  {
   "cell_type": "code",
   "execution_count": 18,
   "id": "moral-occurrence",
   "metadata": {},
   "outputs": [
    {
     "data": {
      "text/plain": [
       "b''"
      ]
     },
     "execution_count": 18,
     "metadata": {},
     "output_type": "execute_result"
    }
   ],
   "source": [
    "data"
   ]
  },
  {
   "cell_type": "code",
   "execution_count": null,
   "id": "functioning-webcam",
   "metadata": {},
   "outputs": [],
   "source": []
  }
 ],
 "metadata": {
  "kernelspec": {
   "display_name": "Python 3",
   "language": "python",
   "name": "python3"
  },
  "language_info": {
   "codemirror_mode": {
    "name": "ipython",
    "version": 3
   },
   "file_extension": ".py",
   "mimetype": "text/x-python",
   "name": "python",
   "nbconvert_exporter": "python",
   "pygments_lexer": "ipython3",
   "version": "3.8.5"
  }
 },
 "nbformat": 4,
 "nbformat_minor": 5
}
